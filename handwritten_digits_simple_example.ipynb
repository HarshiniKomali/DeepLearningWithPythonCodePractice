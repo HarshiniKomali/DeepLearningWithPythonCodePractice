{
  "nbformat": 4,
  "nbformat_minor": 0,
  "metadata": {
    "colab": {
      "provenance": [],
      "authorship_tag": "ABX9TyPz8dAbfb6SKrfF6qis+1AX",
      "include_colab_link": true
    },
    "kernelspec": {
      "name": "python3",
      "display_name": "Python 3"
    },
    "language_info": {
      "name": "python"
    }
  },
  "cells": [
    {
      "cell_type": "markdown",
      "metadata": {
        "id": "view-in-github",
        "colab_type": "text"
      },
      "source": [
        "<a href=\"https://colab.research.google.com/github/HarshiniKomali/DeepLearningWithPythonCodePractice/blob/main/handwritten_digits_simple_example.ipynb\" target=\"_parent\"><img src=\"https://colab.research.google.com/assets/colab-badge.svg\" alt=\"Open In Colab\"/></a>"
      ]
    },
    {
      "cell_type": "markdown",
      "source": [
        "# Classification of grayscale handwritten digits into 0-9 <br>\n",
        "\n"
      ],
      "metadata": {
        "id": "hfeNtwvnh4Z4"
      }
    },
    {
      "cell_type": "code",
      "execution_count": 12,
      "metadata": {
        "id": "cemojgaWh2dZ"
      },
      "outputs": [],
      "source": [
        "from keras.datasets import mnist\n",
        "from keras import models\n",
        "from keras import layers\n",
        "from keras.utils import to_categorical"
      ]
    },
    {
      "cell_type": "code",
      "source": [
        "(train_images,train_labels),(test_images,test_labels) = mnist.load_data()"
      ],
      "metadata": {
        "id": "verLMcL5mO8Z"
      },
      "execution_count": 49,
      "outputs": []
    },
    {
      "cell_type": "code",
      "source": [
        "train_images.shape"
      ],
      "metadata": {
        "colab": {
          "base_uri": "https://localhost:8080/"
        },
        "id": "suiv-Z_9md35",
        "outputId": "cff013d9-14bf-49bd-9132-e8a579699e22"
      },
      "execution_count": 50,
      "outputs": [
        {
          "output_type": "execute_result",
          "data": {
            "text/plain": [
              "(60000, 28, 28)"
            ]
          },
          "metadata": {},
          "execution_count": 50
        }
      ]
    },
    {
      "cell_type": "code",
      "source": [
        "len(train_labels)"
      ],
      "metadata": {
        "colab": {
          "base_uri": "https://localhost:8080/"
        },
        "id": "O3uwddc0mjYL",
        "outputId": "bdbd436f-a6c0-4b1c-dd7d-7ab62e51d9e0"
      },
      "execution_count": 51,
      "outputs": [
        {
          "output_type": "execute_result",
          "data": {
            "text/plain": [
              "60000"
            ]
          },
          "metadata": {},
          "execution_count": 51
        }
      ]
    },
    {
      "cell_type": "code",
      "source": [
        "test_images.shape"
      ],
      "metadata": {
        "colab": {
          "base_uri": "https://localhost:8080/"
        },
        "id": "5pnpAuFpmkx2",
        "outputId": "666139ba-7fde-499a-c4d4-3617d1a39bd7"
      },
      "execution_count": 52,
      "outputs": [
        {
          "output_type": "execute_result",
          "data": {
            "text/plain": [
              "(10000, 28, 28)"
            ]
          },
          "metadata": {},
          "execution_count": 52
        }
      ]
    },
    {
      "cell_type": "code",
      "source": [
        "len(test_labels)"
      ],
      "metadata": {
        "colab": {
          "base_uri": "https://localhost:8080/"
        },
        "id": "qP0pLO6umnQe",
        "outputId": "c39b31a1-1531-4280-f7cb-f704347b7c39"
      },
      "execution_count": 53,
      "outputs": [
        {
          "output_type": "execute_result",
          "data": {
            "text/plain": [
              "10000"
            ]
          },
          "metadata": {},
          "execution_count": 53
        }
      ]
    },
    {
      "cell_type": "markdown",
      "source": [
        "## The network architecture"
      ],
      "metadata": {
        "id": "0dcRPnFim0YC"
      }
    },
    {
      "cell_type": "code",
      "source": [
        "network = models.Sequential()\n",
        "network.add(layers.Dense(512,activation='relu',input_shape=(28*28,)))\n",
        "network.add(layers.Dense(10,activation='softmax'))"
      ],
      "metadata": {
        "id": "Q48vn7WJmovI"
      },
      "execution_count": 54,
      "outputs": []
    },
    {
      "cell_type": "code",
      "source": [
        "network.compile(optimizer='rmsprop',loss='categorical_crossentropy',metrics=['accuracy'])"
      ],
      "metadata": {
        "id": "ww0ANFpgnjkQ"
      },
      "execution_count": 55,
      "outputs": []
    },
    {
      "cell_type": "code",
      "source": [
        "train_images = train_images.reshape((60000,28*28))\n",
        "train_images = train_images.astype('float32')/255\n",
        "\n",
        "test_images = test_images.reshape((10000,28*28))\n",
        "test_images = test_images.astype('float32')/255"
      ],
      "metadata": {
        "id": "Yfv8iXxpockp"
      },
      "execution_count": 56,
      "outputs": []
    },
    {
      "cell_type": "code",
      "source": [
        "train_images.shape"
      ],
      "metadata": {
        "colab": {
          "base_uri": "https://localhost:8080/"
        },
        "id": "GBPSry8sqYEA",
        "outputId": "376b3c87-ccf7-4100-dbe2-c87049d90a46"
      },
      "execution_count": 57,
      "outputs": [
        {
          "output_type": "execute_result",
          "data": {
            "text/plain": [
              "(60000, 784)"
            ]
          },
          "metadata": {},
          "execution_count": 57
        }
      ]
    },
    {
      "cell_type": "code",
      "source": [
        "train_labels = to_categorical(train_labels)\n",
        "test_labels = to_categorical(test_labels)"
      ],
      "metadata": {
        "id": "zrkQv-Tbo1cz"
      },
      "execution_count": 58,
      "outputs": []
    },
    {
      "cell_type": "code",
      "source": [
        "network.fit(train_images,train_labels,epochs=5,batch_size=128)"
      ],
      "metadata": {
        "colab": {
          "base_uri": "https://localhost:8080/"
        },
        "id": "l6CcIU2ZpGAF",
        "outputId": "3d7c86f5-2107-44d4-ab25-576a47ba5429"
      },
      "execution_count": 59,
      "outputs": [
        {
          "output_type": "stream",
          "name": "stdout",
          "text": [
            "Epoch 1/5\n",
            "469/469 [==============================] - 7s 13ms/step - loss: 0.2667 - accuracy: 0.9229\n",
            "Epoch 2/5\n",
            "469/469 [==============================] - 7s 14ms/step - loss: 0.1081 - accuracy: 0.9675\n",
            "Epoch 3/5\n",
            "469/469 [==============================] - 6s 12ms/step - loss: 0.0708 - accuracy: 0.9786\n",
            "Epoch 4/5\n",
            "469/469 [==============================] - 7s 15ms/step - loss: 0.0517 - accuracy: 0.9844\n",
            "Epoch 5/5\n",
            "469/469 [==============================] - 6s 12ms/step - loss: 0.0384 - accuracy: 0.9890\n"
          ]
        },
        {
          "output_type": "execute_result",
          "data": {
            "text/plain": [
              "<keras.callbacks.History at 0x7f5c89f8c2b0>"
            ]
          },
          "metadata": {},
          "execution_count": 59
        }
      ]
    },
    {
      "cell_type": "code",
      "source": [
        "test_loss,test_accuracy = network.evaluate(test_images,test_labels)\n",
        "print('Test accuracy: %s' %(test_accuracy))"
      ],
      "metadata": {
        "colab": {
          "base_uri": "https://localhost:8080/"
        },
        "id": "Mwhndg9XpQMA",
        "outputId": "e8038ec0-24f4-4e41-fb19-8f03bc79291b"
      },
      "execution_count": 61,
      "outputs": [
        {
          "output_type": "stream",
          "name": "stdout",
          "text": [
            "313/313 [==============================] - 1s 3ms/step - loss: 0.0627 - accuracy: 0.9804\n",
            "Test accuracy: 0.980400025844574\n"
          ]
        }
      ]
    },
    {
      "cell_type": "code",
      "source": [],
      "metadata": {
        "id": "VOpE5CZlrLsA"
      },
      "execution_count": null,
      "outputs": []
    }
  ]
}